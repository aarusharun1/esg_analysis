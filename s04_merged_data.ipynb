{
 "cells": [
  {
   "cell_type": "code",
   "execution_count": 4,
   "id": "c452aed8",
   "metadata": {},
   "outputs": [],
   "source": [
    "import yfinance as yf\n",
    "import pandas as pd\n",
    "\n",
    "financials = pd.read_csv(\"processed_data/out6_financials_usd_enriched.csv\")\n",
    "tickers = pd.read_csv(\"processed_data/out5_rankings_tickers.csv\")\n",
    "rankings = pd.read_csv(\"processed_data/out4_Company_Rankings.csv\")\n",
    "\n"
   ]
  },
  {
   "cell_type": "code",
   "execution_count": 6,
   "id": "20893f40",
   "metadata": {},
   "outputs": [],
   "source": [
    "merged_data = financials.merge(tickers,on=\"Ticker\").merge(rankings, on=\"Company Name\")\n",
    "merged_data.to_csv(\"processed_data/out10_Merged_Data_raw.csv\")"
   ]
  }
 ],
 "metadata": {
  "kernelspec": {
   "display_name": "Python 3",
   "language": "python",
   "name": "python3"
  },
  "language_info": {
   "codemirror_mode": {
    "name": "ipython",
    "version": 3
   },
   "file_extension": ".py",
   "mimetype": "text/x-python",
   "name": "python",
   "nbconvert_exporter": "python",
   "pygments_lexer": "ipython3",
   "version": "3.13.7"
  }
 },
 "nbformat": 4,
 "nbformat_minor": 5
}
