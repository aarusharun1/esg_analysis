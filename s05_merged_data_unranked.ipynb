{
 "cells": [
  {
   "cell_type": "code",
   "execution_count": 1,
   "id": "c452aed8",
   "metadata": {},
   "outputs": [],
   "source": [
    "import yfinance as yf\n",
    "import pandas as pd\n",
    "\n",
    "rankings = pd.read_csv(\"processed_data/out11_unranked_companies.csv\")\n",
    "tickers = pd.read_csv(\"processed_data/out12_unranked_stock_returns_2016_2025.csv\")\n",
    "financials = pd.read_csv(\"processed_data/out14_unranked_Final_Company_Financials.csv\")\n",
    "\n"
   ]
  },
  {
   "cell_type": "code",
   "execution_count": 2,
   "id": "20893f40",
   "metadata": {},
   "outputs": [],
   "source": [
    "merged_data = financials.merge(tickers,on=\"Ticker\").merge(rankings, on=\"Ticker\")\n",
    "merged_data.to_csv(\"processed_data/out15_unranked_Merged_Data_raw.csv\")"
   ]
  }
 ],
 "metadata": {
  "kernelspec": {
   "display_name": "Python 3",
   "language": "python",
   "name": "python3"
  },
  "language_info": {
   "codemirror_mode": {
    "name": "ipython",
    "version": 3
   },
   "file_extension": ".py",
   "mimetype": "text/x-python",
   "name": "python",
   "nbconvert_exporter": "python",
   "pygments_lexer": "ipython3",
   "version": "3.13.7"
  }
 },
 "nbformat": 4,
 "nbformat_minor": 5
}
